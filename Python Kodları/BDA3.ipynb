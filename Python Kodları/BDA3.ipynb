{
  "nbformat": 4,
  "nbformat_minor": 0,
  "metadata": {
    "colab": {
      "provenance": []
    },
    "kernelspec": {
      "name": "python3",
      "display_name": "Python 3"
    },
    "language_info": {
      "name": "python"
    }
  },
  "cells": [
    {
      "cell_type": "markdown",
      "source": [
        "Önceki bölümde, Spark Veri Çerçevelerinin temel kavramlarını\n",
        "öğrendik ve bunları büyük veri analizinde nasıl kullanabileceğimizi\n",
        "gördük. Bu bölümde, bir adım daha ileri giderek verilerdeki eksik\n",
        "değerlerin nasıl ele alınacağını ve Spark Veri Çerçeveleri ile korelasyon\n",
        "analizini öğreneceğiz. Bu kavramlar, makine öğrenimi ve keşifsel\n",
        "veri analizi için veri hazırlamada bize yardımcı olacak. Okuyucuya\n",
        "bir bağlam sağlamak için bu kavramları kısaca ele alacağız, ancak\n",
        "odak noktamız bunların Spark Veri Çerçeveleri ile uygulanması. Bu\n",
        "bölümdeki alıştırmalar için de önceki bölümde kullandığımız aynı Iris\n",
        "veri kümesini kullanacağız. Ancak Iris veri kümesinde eksik değer\n",
        "bulunmadığından, orijinal veri kümesinden Sepallength sütunundan\n",
        "iki girişi ve Petallength sütunundan bir girişi rastgele kaldırdık.\n",
        "Böylece, artık eksik değerleri olan bir veri kümemiz var ve PySpark\n",
        "kullanarak bu eksik değerleri nasıl ele alacağımızı öğreneceğiz. Ayrıca,\n",
        "Iris veri setindeki değişkenler arasındaki korelasyona, korelasyon\n",
        "katsayılarını ve korelasyon matrisini hesaplayarak bakacağız."
      ],
      "metadata": {
        "id": "67NF7fk61pRM"
      }
    },
    {
      "cell_type": "code",
      "source": [
        "# Import PySpark\n",
        "import pyspark\n",
        "from pyspark.sql import SparkSession\n",
        "from pyspark.sql import SQLContext\n",
        "\n",
        "#Create SparkSession\n",
        "spark = SparkSession.builder.master(\"local[1]\").appName(\"SparkByExamples.com\").getOrCreate()\n",
        "sc=spark.sparkContext\n",
        "sqlc = SQLContext(sc)\n",
        "\n",
        "from google.colab import files\n",
        "uploaded = files.upload()\n",
        "df = sqlc.read.format('com.databricks.spark.csv').options(header='true', inferschema='true').load('iris_missing_data.csv')\n",
        "type(df)\n",
        "df.show()"
      ],
      "metadata": {
        "colab": {
          "base_uri": "https://localhost:8080/",
          "height": 525
        },
        "id": "MIeBDo4i1zUT",
        "outputId": "c470f4d3-49ad-4995-902b-30c48b46de5e"
      },
      "execution_count": null,
      "outputs": [
        {
          "output_type": "display_data",
          "data": {
            "text/plain": [
              "<IPython.core.display.HTML object>"
            ],
            "text/html": [
              "\n",
              "     <input type=\"file\" id=\"files-0a3c9ad0-3799-497a-8154-7c8d1562fad1\" name=\"files[]\" multiple disabled\n",
              "        style=\"border:none\" />\n",
              "     <output id=\"result-0a3c9ad0-3799-497a-8154-7c8d1562fad1\">\n",
              "      Upload widget is only available when the cell has been executed in the\n",
              "      current browser session. Please rerun this cell to enable.\n",
              "      </output>\n",
              "      <script>// Copyright 2017 Google LLC\n",
              "//\n",
              "// Licensed under the Apache License, Version 2.0 (the \"License\");\n",
              "// you may not use this file except in compliance with the License.\n",
              "// You may obtain a copy of the License at\n",
              "//\n",
              "//      http://www.apache.org/licenses/LICENSE-2.0\n",
              "//\n",
              "// Unless required by applicable law or agreed to in writing, software\n",
              "// distributed under the License is distributed on an \"AS IS\" BASIS,\n",
              "// WITHOUT WARRANTIES OR CONDITIONS OF ANY KIND, either express or implied.\n",
              "// See the License for the specific language governing permissions and\n",
              "// limitations under the License.\n",
              "\n",
              "/**\n",
              " * @fileoverview Helpers for google.colab Python module.\n",
              " */\n",
              "(function(scope) {\n",
              "function span(text, styleAttributes = {}) {\n",
              "  const element = document.createElement('span');\n",
              "  element.textContent = text;\n",
              "  for (const key of Object.keys(styleAttributes)) {\n",
              "    element.style[key] = styleAttributes[key];\n",
              "  }\n",
              "  return element;\n",
              "}\n",
              "\n",
              "// Max number of bytes which will be uploaded at a time.\n",
              "const MAX_PAYLOAD_SIZE = 100 * 1024;\n",
              "\n",
              "function _uploadFiles(inputId, outputId) {\n",
              "  const steps = uploadFilesStep(inputId, outputId);\n",
              "  const outputElement = document.getElementById(outputId);\n",
              "  // Cache steps on the outputElement to make it available for the next call\n",
              "  // to uploadFilesContinue from Python.\n",
              "  outputElement.steps = steps;\n",
              "\n",
              "  return _uploadFilesContinue(outputId);\n",
              "}\n",
              "\n",
              "// This is roughly an async generator (not supported in the browser yet),\n",
              "// where there are multiple asynchronous steps and the Python side is going\n",
              "// to poll for completion of each step.\n",
              "// This uses a Promise to block the python side on completion of each step,\n",
              "// then passes the result of the previous step as the input to the next step.\n",
              "function _uploadFilesContinue(outputId) {\n",
              "  const outputElement = document.getElementById(outputId);\n",
              "  const steps = outputElement.steps;\n",
              "\n",
              "  const next = steps.next(outputElement.lastPromiseValue);\n",
              "  return Promise.resolve(next.value.promise).then((value) => {\n",
              "    // Cache the last promise value to make it available to the next\n",
              "    // step of the generator.\n",
              "    outputElement.lastPromiseValue = value;\n",
              "    return next.value.response;\n",
              "  });\n",
              "}\n",
              "\n",
              "/**\n",
              " * Generator function which is called between each async step of the upload\n",
              " * process.\n",
              " * @param {string} inputId Element ID of the input file picker element.\n",
              " * @param {string} outputId Element ID of the output display.\n",
              " * @return {!Iterable<!Object>} Iterable of next steps.\n",
              " */\n",
              "function* uploadFilesStep(inputId, outputId) {\n",
              "  const inputElement = document.getElementById(inputId);\n",
              "  inputElement.disabled = false;\n",
              "\n",
              "  const outputElement = document.getElementById(outputId);\n",
              "  outputElement.innerHTML = '';\n",
              "\n",
              "  const pickedPromise = new Promise((resolve) => {\n",
              "    inputElement.addEventListener('change', (e) => {\n",
              "      resolve(e.target.files);\n",
              "    });\n",
              "  });\n",
              "\n",
              "  const cancel = document.createElement('button');\n",
              "  inputElement.parentElement.appendChild(cancel);\n",
              "  cancel.textContent = 'Cancel upload';\n",
              "  const cancelPromise = new Promise((resolve) => {\n",
              "    cancel.onclick = () => {\n",
              "      resolve(null);\n",
              "    };\n",
              "  });\n",
              "\n",
              "  // Wait for the user to pick the files.\n",
              "  const files = yield {\n",
              "    promise: Promise.race([pickedPromise, cancelPromise]),\n",
              "    response: {\n",
              "      action: 'starting',\n",
              "    }\n",
              "  };\n",
              "\n",
              "  cancel.remove();\n",
              "\n",
              "  // Disable the input element since further picks are not allowed.\n",
              "  inputElement.disabled = true;\n",
              "\n",
              "  if (!files) {\n",
              "    return {\n",
              "      response: {\n",
              "        action: 'complete',\n",
              "      }\n",
              "    };\n",
              "  }\n",
              "\n",
              "  for (const file of files) {\n",
              "    const li = document.createElement('li');\n",
              "    li.append(span(file.name, {fontWeight: 'bold'}));\n",
              "    li.append(span(\n",
              "        `(${file.type || 'n/a'}) - ${file.size} bytes, ` +\n",
              "        `last modified: ${\n",
              "            file.lastModifiedDate ? file.lastModifiedDate.toLocaleDateString() :\n",
              "                                    'n/a'} - `));\n",
              "    const percent = span('0% done');\n",
              "    li.appendChild(percent);\n",
              "\n",
              "    outputElement.appendChild(li);\n",
              "\n",
              "    const fileDataPromise = new Promise((resolve) => {\n",
              "      const reader = new FileReader();\n",
              "      reader.onload = (e) => {\n",
              "        resolve(e.target.result);\n",
              "      };\n",
              "      reader.readAsArrayBuffer(file);\n",
              "    });\n",
              "    // Wait for the data to be ready.\n",
              "    let fileData = yield {\n",
              "      promise: fileDataPromise,\n",
              "      response: {\n",
              "        action: 'continue',\n",
              "      }\n",
              "    };\n",
              "\n",
              "    // Use a chunked sending to avoid message size limits. See b/62115660.\n",
              "    let position = 0;\n",
              "    do {\n",
              "      const length = Math.min(fileData.byteLength - position, MAX_PAYLOAD_SIZE);\n",
              "      const chunk = new Uint8Array(fileData, position, length);\n",
              "      position += length;\n",
              "\n",
              "      const base64 = btoa(String.fromCharCode.apply(null, chunk));\n",
              "      yield {\n",
              "        response: {\n",
              "          action: 'append',\n",
              "          file: file.name,\n",
              "          data: base64,\n",
              "        },\n",
              "      };\n",
              "\n",
              "      let percentDone = fileData.byteLength === 0 ?\n",
              "          100 :\n",
              "          Math.round((position / fileData.byteLength) * 100);\n",
              "      percent.textContent = `${percentDone}% done`;\n",
              "\n",
              "    } while (position < fileData.byteLength);\n",
              "  }\n",
              "\n",
              "  // All done.\n",
              "  yield {\n",
              "    response: {\n",
              "      action: 'complete',\n",
              "    }\n",
              "  };\n",
              "}\n",
              "\n",
              "scope.google = scope.google || {};\n",
              "scope.google.colab = scope.google.colab || {};\n",
              "scope.google.colab._files = {\n",
              "  _uploadFiles,\n",
              "  _uploadFilesContinue,\n",
              "};\n",
              "})(self);\n",
              "</script> "
            ]
          },
          "metadata": {}
        },
        {
          "output_type": "stream",
          "name": "stdout",
          "text": [
            "Saving iris_missing_data.csv to iris_missing_data.csv\n",
            "+---+------------+-----------+------------+-----------+-----------+\n",
            "| Id|sepal_length|sepal_width|petal_length|petal_width|    species|\n",
            "+---+------------+-----------+------------+-----------+-----------+\n",
            "|  1|         5.1|        3.5|         1.4|        0.2|Iris-setosa|\n",
            "|  2|         4.9|        3.0|         1.4|        0.2|Iris-setosa|\n",
            "|  3|         4.7|        3.2|         1.3|        0.2|Iris-setosa|\n",
            "|  4|        NULL|        3.1|         1.5|        0.2|Iris-setosa|\n",
            "|  5|         5.0|        3.6|         1.4|        0.2|Iris-setosa|\n",
            "|  6|         5.4|        3.9|         1.7|        0.4|Iris-setosa|\n",
            "|  7|         4.6|        3.4|         1.4|        0.3|Iris-setosa|\n",
            "|  8|         5.0|        3.4|         1.5|        0.2|Iris-setosa|\n",
            "|  9|         4.4|        2.9|         1.4|        0.2|Iris-setosa|\n",
            "| 10|         4.9|        3.1|        NULL|        0.1|Iris-setosa|\n",
            "| 11|         5.4|        3.7|         1.5|        0.2|Iris-setosa|\n",
            "| 12|         4.8|        3.4|         1.6|        0.2|Iris-setosa|\n",
            "| 13|         4.8|        3.0|         1.4|        0.1|Iris-setosa|\n",
            "| 14|        NULL|        3.0|         1.1|        0.1|Iris-setosa|\n",
            "| 15|         5.8|       NULL|         1.2|        0.2|Iris-setosa|\n",
            "| 16|         5.7|        4.4|         1.5|        0.4|Iris-setosa|\n",
            "| 17|         5.4|        3.9|         1.3|        0.4|Iris-setosa|\n",
            "| 18|         5.1|        3.5|         1.4|        0.3|Iris-setosa|\n",
            "| 19|        NULL|        3.8|         1.7|        0.3|Iris-setosa|\n",
            "| 20|         5.1|        3.8|         1.5|        0.3|Iris-setosa|\n",
            "+---+------------+-----------+------------+-----------+-----------+\n",
            "only showing top 20 rows\n",
            "\n"
          ]
        }
      ]
    },
    {
      "cell_type": "markdown",
      "source": [
        "**Kayıp Gözlemler**\n",
        "\n",
        "Eksik veri yüzdesine bağlı olarak, eksik değerler veri hazırlama ve\n",
        "keşifsel analizde önemli bir zorluk oluşturabilir. Bu nedenle, veri\n",
        "analizine başlamadan önce eksik veri yüzdesini hesaplamak önemlidir.\n",
        "Aşağıdaki alıştırmada, PySpark DataFrame’lerindeki eksik değer girişlerinin\n",
        "sayısını nasıl tespit edip hesaplayacağımızı öğreneceğiz.\n"
      ],
      "metadata": {
        "id": "b9-7W35P_2lb"
      }
    },
    {
      "cell_type": "code",
      "source": [
        "from pyspark.sql.functions import isnan, when, count, col\n",
        "df.select([count(when(isnan(c) | col(c).isNull(),\n",
        "c)).alias(c) for c in df.columns]).show()\n",
        "\n",
        "df.filter(col('sepal_length').isNull()).count()"
      ],
      "metadata": {
        "colab": {
          "base_uri": "https://localhost:8080/"
        },
        "id": "8efHNyeV6eMB",
        "outputId": "80a033a1-ee85-4dfe-8d86-b665528754ad"
      },
      "execution_count": null,
      "outputs": [
        {
          "output_type": "stream",
          "name": "stdout",
          "text": [
            "+---+------------+-----------+------------+-----------+-------+\n",
            "| Id|sepal_length|sepal_width|petal_length|petal_width|species|\n",
            "+---+------------+-----------+------------+-----------+-------+\n",
            "|  0|          11|          7|           8|          9|      0|\n",
            "+---+------------+-----------+------------+-----------+-------+\n",
            "\n"
          ]
        },
        {
          "output_type": "execute_result",
          "data": {
            "text/plain": [
              "11"
            ]
          },
          "metadata": {},
          "execution_count": 35
        }
      ]
    },
    {
      "cell_type": "markdown",
      "source": [
        "**Tüm Veri Çerçevesi Sütunlarındaki Eksik Değerleri Sayma**\n",
        "\n",
        "Bu alıştırmada, bir PySpark DataFrame’in tüm sütunlarında bulunan\n",
        "eksik değerleri sayacağız:"
      ],
      "metadata": {
        "id": "DJefyZ9AALGK"
      }
    },
    {
      "cell_type": "code",
      "source": [
        "from pyspark.sql.functions import isnan, when, count, col\n",
        "\n",
        "df.select([count(when(isnan(i) | col(i).isNull(), i)).alias(i) for i in\n",
        "df.columns]).show()\n",
        "\n",
        "df.describe().show(1)"
      ],
      "metadata": {
        "colab": {
          "base_uri": "https://localhost:8080/"
        },
        "id": "DIsEAHyBEofL",
        "outputId": "68d3108a-0a92-435e-df95-7d0c80f32854"
      },
      "execution_count": null,
      "outputs": [
        {
          "output_type": "stream",
          "name": "stdout",
          "text": [
            "+---+------------+-----------+------------+-----------+-------+\n",
            "| Id|sepal_length|sepal_width|petal_length|petal_width|species|\n",
            "+---+------------+-----------+------------+-----------+-------+\n",
            "|  0|          11|          7|           8|          9|      0|\n",
            "+---+------------+-----------+------------+-----------+-------+\n",
            "\n",
            "+-------+---+------------+-----------+------------+-----------+-------+\n",
            "|summary| Id|sepal_length|sepal_width|petal_length|petal_width|species|\n",
            "+-------+---+------------+-----------+------------+-----------+-------+\n",
            "|  count|150|         139|        143|         142|        141|    150|\n",
            "+-------+---+------------+-----------+------------+-----------+-------+\n",
            "only showing top 1 row\n",
            "\n"
          ]
        }
      ]
    },
    {
      "cell_type": "markdown",
      "source": [
        "**Veri Çerçevesinden Eksik Değer Kayıtlarını Getirme**\n",
        "\n",
        "Aşağıdaki kodu kullanarak PySpark DataFrame’deki eksik değer\n",
        "girişlerini içeren kayıtları da filtreleyebiliriz:"
      ],
      "metadata": {
        "id": "dSkOK-lXARUS"
      }
    },
    {
      "cell_type": "code",
      "source": [
        "df.where(col('sepal_length').isNull()).show()\n",
        "\n",
        "df.select('sepal_length').dropna().count()\n",
        "\n",
        "df.dropna().count()"
      ],
      "metadata": {
        "colab": {
          "base_uri": "https://localhost:8080/"
        },
        "id": "j3vyx0m5FBfh",
        "outputId": "8eb93560-54a0-4c6a-e7a6-4bd547b5d026"
      },
      "execution_count": null,
      "outputs": [
        {
          "output_type": "stream",
          "name": "stdout",
          "text": [
            "+---+------------+-----------+------------+-----------+---------------+\n",
            "| Id|sepal_length|sepal_width|petal_length|petal_width|        species|\n",
            "+---+------------+-----------+------------+-----------+---------------+\n",
            "|  4|        NULL|        3.1|         1.5|        0.2|    Iris-setosa|\n",
            "| 14|        NULL|        3.0|         1.1|        0.1|    Iris-setosa|\n",
            "| 19|        NULL|        3.8|         1.7|        0.3|    Iris-setosa|\n",
            "| 28|        NULL|        3.5|         1.5|        0.2|    Iris-setosa|\n",
            "| 52|        NULL|        3.2|         4.5|        1.5|Iris-versicolor|\n",
            "| 75|        NULL|        2.9|         4.3|        1.3|Iris-versicolor|\n",
            "| 83|        NULL|        2.7|         3.9|        1.2|Iris-versicolor|\n",
            "|100|        NULL|        2.8|         4.1|        1.3|Iris-versicolor|\n",
            "|126|        NULL|        3.2|         6.0|        1.8| Iris-virginica|\n",
            "|131|        NULL|        2.8|         6.1|        1.9| Iris-virginica|\n",
            "|143|        NULL|        2.7|         5.1|       NULL| Iris-virginica|\n",
            "+---+------------+-----------+------------+-----------+---------------+\n",
            "\n"
          ]
        },
        {
          "output_type": "execute_result",
          "data": {
            "text/plain": [
              "119"
            ]
          },
          "metadata": {},
          "execution_count": 37
        }
      ]
    },
    {
      "cell_type": "code",
      "source": [
        "df.dropna().count()"
      ],
      "metadata": {
        "colab": {
          "base_uri": "https://localhost:8080/"
        },
        "id": "ilTh8Eq7FQMF",
        "outputId": "f250d1f7-9b10-4ac0-ea8e-0e3c67e47c07"
      },
      "execution_count": null,
      "outputs": [
        {
          "output_type": "execute_result",
          "data": {
            "text/plain": [
              "119"
            ]
          },
          "metadata": {},
          "execution_count": 38
        }
      ]
    },
    {
      "cell_type": "code",
      "source": [
        "df.where(col('sepal_length').isNull()).show()"
      ],
      "metadata": {
        "colab": {
          "base_uri": "https://localhost:8080/"
        },
        "id": "jTSsk4RyFWWB",
        "outputId": "0d5ae01b-42ef-4a9d-8d22-a9397b71e313"
      },
      "execution_count": null,
      "outputs": [
        {
          "output_type": "stream",
          "name": "stdout",
          "text": [
            "+---+------------+-----------+------------+-----------+---------------+\n",
            "| Id|sepal_length|sepal_width|petal_length|petal_width|        species|\n",
            "+---+------------+-----------+------------+-----------+---------------+\n",
            "|  4|        NULL|        3.1|         1.5|        0.2|    Iris-setosa|\n",
            "| 14|        NULL|        3.0|         1.1|        0.1|    Iris-setosa|\n",
            "| 19|        NULL|        3.8|         1.7|        0.3|    Iris-setosa|\n",
            "| 28|        NULL|        3.5|         1.5|        0.2|    Iris-setosa|\n",
            "| 52|        NULL|        3.2|         4.5|        1.5|Iris-versicolor|\n",
            "| 75|        NULL|        2.9|         4.3|        1.3|Iris-versicolor|\n",
            "| 83|        NULL|        2.7|         3.9|        1.2|Iris-versicolor|\n",
            "|100|        NULL|        2.8|         4.1|        1.3|Iris-versicolor|\n",
            "|126|        NULL|        3.2|         6.0|        1.8| Iris-virginica|\n",
            "|131|        NULL|        2.8|         6.1|        1.9| Iris-virginica|\n",
            "|143|        NULL|        2.7|         5.1|       NULL| Iris-virginica|\n",
            "+---+------------+-----------+------------+-----------+---------------+\n",
            "\n"
          ]
        }
      ]
    },
    {
      "cell_type": "markdown",
      "source": [
        "**Spark Veri Çerçevelerinde Eksik Değerlerin İşlenmesi**\n",
        "\n",
        "Eksik değer işleme, veri biliminin karmaşık alanlarından biridir. Eksik\n",
        "veri türüne ve mevcut iş kullanım senaryosuna bağlı olarak, eksik\n",
        "değerleri işlemek için kullanılan çeşitli teknikler vardır. Bu yöntemler,\n",
        "basit mantık tabanlı yöntemlerden regresyon ve KNN gibi gelişmiş\n",
        "istatistiksel yöntemlere kadar uzanır. Ancak, eksik değerleri ele\n",
        "almak için kullanılan yöntemden bağımsız olarak, eksik değer verileri\n",
        "üzerinde aşağıdaki iki işlemden birini gerçekleştireceğiz:\n",
        "\n",
        "- Verilerden eksik değerlere sahip kayıtları kaldırma\n",
        "\n",
        "- Eksik değer girişlerini sabit bir değerle yükleme\n",
        "\n",
        "\n",
        "Bu bölümde, bu iki işlemin de PySpark DataFrame’leri ile nasıl\n",
        "yapılacağını inceleyeceğiz."
      ],
      "metadata": {
        "id": "E_u_vdmKAY-X"
      }
    },
    {
      "cell_type": "code",
      "source": [
        "df.select('sepal_length').dropna().count()\n",
        "\n",
        "df.dropna().count()"
      ],
      "metadata": {
        "colab": {
          "base_uri": "https://localhost:8080/"
        },
        "id": "JVDJZy7e7pzb",
        "outputId": "d3937103-1075-4649-ee22-9fa302e8170f"
      },
      "execution_count": null,
      "outputs": [
        {
          "output_type": "execute_result",
          "data": {
            "text/plain": [
              "119"
            ]
          },
          "metadata": {},
          "execution_count": 41
        }
      ]
    },
    {
      "cell_type": "code",
      "source": [
        "y = df.select('sepal_length','petal_length').fillna(1)\n",
        "y.select([count(when(isnan(i) | col(i).isNull(), i)).alias(i) for i in\n",
        "y.columns]).show()\n"
      ],
      "metadata": {
        "colab": {
          "base_uri": "https://localhost:8080/"
        },
        "id": "I6vPtgnH7wHi",
        "outputId": "6cf07191-78f7-4140-d041-a2d3e589b8d0"
      },
      "execution_count": null,
      "outputs": [
        {
          "output_type": "stream",
          "name": "stdout",
          "text": [
            "+------------+------------+\n",
            "|sepal_length|petal_length|\n",
            "+------------+------------+\n",
            "|           0|           0|\n",
            "+------------+------------+\n",
            "\n"
          ]
        }
      ]
    },
    {
      "cell_type": "code",
      "source": [
        "z = df.fillna(1)\n",
        "z.select([count(when(isnan(k) | col(k).isNull(), k)).alias(k) for k in\n",
        "z.columns]).show()"
      ],
      "metadata": {
        "colab": {
          "base_uri": "https://localhost:8080/"
        },
        "id": "H6YekTat8o1j",
        "outputId": "0cd84ca4-b00f-4820-fcfb-2cce799310be"
      },
      "execution_count": null,
      "outputs": [
        {
          "output_type": "stream",
          "name": "stdout",
          "text": [
            "+---+------------+-----------+------------+-----------+-------+\n",
            "| Id|sepal_length|sepal_width|petal_length|petal_width|species|\n",
            "+---+------------+-----------+------------+-----------+-------+\n",
            "|  0|           0|          0|           0|          0|      0|\n",
            "+---+------------+-----------+------------+-----------+-------+\n",
            "\n"
          ]
        }
      ]
    },
    {
      "cell_type": "markdown",
      "source": [
        "**Korelasyon**\n",
        "\n",
        "Korelasyon, iki sayısal değişken arasındaki ilişki düzeyinin istatistiksel\n",
        "bir ölçüsüdür. İki değişkenin birbiriyle ne kadar yakın ilişkili olduğuna\n",
        "dair bir fikir verir. Örneğin, yaş ve gelir oldukça yakın ilişkili değişkenlerdir.\n",
        "\n",
        "Ortalama gelirin belirli bir eşik değer aralığında yaşla birlikte\n",
        "arttığı gözlemlenmiştir. Dolayısıyla, yaş ve gelirin birbiriyle pozitif\n",
        "korelasyona sahip olduğunu varsayabiliriz.\n",
        "\n",
        "\n",
        "Bu ilişkiyi hesaplamak için kullanılan en yaygın metrik, yaygın olarak\n",
        "Pearson korelasyon katsayısı veya kısaca korelasyon katsayısı olarak\n",
        "bilinen Pearson Ürün-Moment Korelasyonu’dur. Adını mucidi Karl\n",
        "Pearson’dan almıştır."
      ],
      "metadata": {
        "id": "Ux3dvLdGAmiW"
      }
    },
    {
      "cell_type": "markdown",
      "source": [
        "Pearson korelasyon katsayısı, iki değişkenin kovaryansının standart\n",
        "sapmalarının çarpımına bölünmesiyle hesaplanır. Korelasyon değeri\n",
        "-1 ile +1 arasındadır; 1 veya -1’e yakın değerler güçlü ilişkiyi, 0’a\n",
        "yakın değerler ise zayıf ilişkiyi gösterir. Katsayının (+, -) işareti,\n",
        "ilişkinin pozitif (her iki değişken birlikte artar/azalır) veya negatif\n",
        "(tersi) olduğunu gösterir.\n",
        "\n",
        "\n",
        "Korelasyon, istatistiksel analizde büyük önem taşır, çünkü verileri\n",
        "açıklamaya yardımcı olur ve bazen değişkenler arasındaki tahmini\n",
        "ilişkileri vurgular. Bu bölümde, PySpark’ta değişkenler arasındaki\n",
        "korelasyonun nasıl hesaplanacağını ve bir korelasyon matrisinin nasıl\n",
        "hesaplanacağını öğreneceğiz."
      ],
      "metadata": {
        "id": "bGi9djpIAuP2"
      }
    },
    {
      "cell_type": "markdown",
      "source": [
        "**Korelasyonun Hesaplanması**\n",
        "\n",
        "Bu alıştırmada, iki sayısal değişken arasındaki Pearson korelasyon katsayısının\n",
        "değerini ve PySpark DataFrame’imizin tüm sayısal sütunları\n",
        "için bir korelasyon matrisini hesaplayacağız. Korelasyon matrisi, tüm\n",
        "sayısal sütunların birbirleriyle olan korelasyonunu görselleştirmemize\n",
        "yardımcı olur:"
      ],
      "metadata": {
        "id": "cgm4nahsAypG"
      }
    },
    {
      "cell_type": "code",
      "source": [
        "df.corr('sepal_length', 'sepal_width')"
      ],
      "metadata": {
        "colab": {
          "base_uri": "https://localhost:8080/"
        },
        "id": "5lVvUYga80mT",
        "outputId": "6c3e2274-7f53-4274-8a57-f6e485a1b59e"
      },
      "execution_count": null,
      "outputs": [
        {
          "output_type": "execute_result",
          "data": {
            "text/plain": [
              "-0.07534137711178807"
            ]
          },
          "metadata": {},
          "execution_count": 48
        }
      ]
    },
    {
      "cell_type": "code",
      "source": [
        "from pyspark.mllib.stat import Statistics\n",
        "import pandas as pd"
      ],
      "metadata": {
        "id": "l0pFhniC86H6"
      },
      "execution_count": null,
      "outputs": []
    },
    {
      "cell_type": "code",
      "source": [
        "z = df.fillna(1)"
      ],
      "metadata": {
        "id": "Xi-WjfFi9ymo"
      },
      "execution_count": null,
      "outputs": []
    },
    {
      "cell_type": "code",
      "source": [
        "a = z.drop('Species')"
      ],
      "metadata": {
        "id": "piHRWuFo91NO"
      },
      "execution_count": null,
      "outputs": []
    },
    {
      "cell_type": "code",
      "source": [
        "features = a.rdd.map(lambda row: row[0:])\n",
        "correlation_matrix = Statistics.corr(features, method=\"pearson\")"
      ],
      "metadata": {
        "id": "XjXCb5B5-AOm"
      },
      "execution_count": null,
      "outputs": []
    },
    {
      "cell_type": "code",
      "source": [
        "correlation_df = pd.DataFrame(correlation_matrix)"
      ],
      "metadata": {
        "id": "Wg5CXPo3-DuO"
      },
      "execution_count": null,
      "outputs": []
    },
    {
      "cell_type": "markdown",
      "source": [
        " **PySpark ile Eksik Değer İşleme ve Korelasyon Analizi\n",
        "DataFrames**\n",
        "\n",
        "Bu etkinlikte, Iris veri kümesindeki eksik değerleri tespit edip işleyeceğiz.\n",
        "Ayrıca, korelasyon matrisini hesaplayacak ve güçlü korelasyonlar\n",
        "gösteren değişkenleri birbirleriyle çizip grafiğe doğrusal bir çizgi\n",
        "yerleştirerek doğrulayacağız:"
      ],
      "metadata": {
        "id": "6nKxsjuIA601"
      }
    },
    {
      "cell_type": "code",
      "source": [
        "correlation_df.index, correlation_df.columns = a.columns, a.columns"
      ],
      "metadata": {
        "id": "jcRzvH7R-FTG"
      },
      "execution_count": null,
      "outputs": []
    },
    {
      "cell_type": "code",
      "source": [
        "correlation_df"
      ],
      "metadata": {
        "colab": {
          "base_uri": "https://localhost:8080/",
          "height": 206
        },
        "id": "Ai8dTUyO-HLu",
        "outputId": "10d3e17a-f4e5-4513-d9c2-c1a446f20f54"
      },
      "execution_count": null,
      "outputs": [
        {
          "output_type": "execute_result",
          "data": {
            "text/plain": [
              "                    Id  sepal_length  sepal_width  petal_length  petal_width\n",
              "Id            1.000000      0.388501    -0.284608      0.829438     0.867369\n",
              "sepal_length  0.388501      1.000000    -0.079383      0.421156     0.470135\n",
              "sepal_width  -0.284608     -0.079383     1.000000     -0.217679    -0.251430\n",
              "petal_length  0.829438      0.421156    -0.217679      1.000000     0.896668\n",
              "petal_width   0.867369      0.470135    -0.251430      0.896668     1.000000"
            ],
            "text/html": [
              "\n",
              "  <div id=\"df-1718574e-4663-418d-81df-4812075c8274\" class=\"colab-df-container\">\n",
              "    <div>\n",
              "<style scoped>\n",
              "    .dataframe tbody tr th:only-of-type {\n",
              "        vertical-align: middle;\n",
              "    }\n",
              "\n",
              "    .dataframe tbody tr th {\n",
              "        vertical-align: top;\n",
              "    }\n",
              "\n",
              "    .dataframe thead th {\n",
              "        text-align: right;\n",
              "    }\n",
              "</style>\n",
              "<table border=\"1\" class=\"dataframe\">\n",
              "  <thead>\n",
              "    <tr style=\"text-align: right;\">\n",
              "      <th></th>\n",
              "      <th>Id</th>\n",
              "      <th>sepal_length</th>\n",
              "      <th>sepal_width</th>\n",
              "      <th>petal_length</th>\n",
              "      <th>petal_width</th>\n",
              "    </tr>\n",
              "  </thead>\n",
              "  <tbody>\n",
              "    <tr>\n",
              "      <th>Id</th>\n",
              "      <td>1.000000</td>\n",
              "      <td>0.388501</td>\n",
              "      <td>-0.284608</td>\n",
              "      <td>0.829438</td>\n",
              "      <td>0.867369</td>\n",
              "    </tr>\n",
              "    <tr>\n",
              "      <th>sepal_length</th>\n",
              "      <td>0.388501</td>\n",
              "      <td>1.000000</td>\n",
              "      <td>-0.079383</td>\n",
              "      <td>0.421156</td>\n",
              "      <td>0.470135</td>\n",
              "    </tr>\n",
              "    <tr>\n",
              "      <th>sepal_width</th>\n",
              "      <td>-0.284608</td>\n",
              "      <td>-0.079383</td>\n",
              "      <td>1.000000</td>\n",
              "      <td>-0.217679</td>\n",
              "      <td>-0.251430</td>\n",
              "    </tr>\n",
              "    <tr>\n",
              "      <th>petal_length</th>\n",
              "      <td>0.829438</td>\n",
              "      <td>0.421156</td>\n",
              "      <td>-0.217679</td>\n",
              "      <td>1.000000</td>\n",
              "      <td>0.896668</td>\n",
              "    </tr>\n",
              "    <tr>\n",
              "      <th>petal_width</th>\n",
              "      <td>0.867369</td>\n",
              "      <td>0.470135</td>\n",
              "      <td>-0.251430</td>\n",
              "      <td>0.896668</td>\n",
              "      <td>1.000000</td>\n",
              "    </tr>\n",
              "  </tbody>\n",
              "</table>\n",
              "</div>\n",
              "    <div class=\"colab-df-buttons\">\n",
              "\n",
              "  <div class=\"colab-df-container\">\n",
              "    <button class=\"colab-df-convert\" onclick=\"convertToInteractive('df-1718574e-4663-418d-81df-4812075c8274')\"\n",
              "            title=\"Convert this dataframe to an interactive table.\"\n",
              "            style=\"display:none;\">\n",
              "\n",
              "  <svg xmlns=\"http://www.w3.org/2000/svg\" height=\"24px\" viewBox=\"0 -960 960 960\">\n",
              "    <path d=\"M120-120v-720h720v720H120Zm60-500h600v-160H180v160Zm220 220h160v-160H400v160Zm0 220h160v-160H400v160ZM180-400h160v-160H180v160Zm440 0h160v-160H620v160ZM180-180h160v-160H180v160Zm440 0h160v-160H620v160Z\"/>\n",
              "  </svg>\n",
              "    </button>\n",
              "\n",
              "  <style>\n",
              "    .colab-df-container {\n",
              "      display:flex;\n",
              "      gap: 12px;\n",
              "    }\n",
              "\n",
              "    .colab-df-convert {\n",
              "      background-color: #E8F0FE;\n",
              "      border: none;\n",
              "      border-radius: 50%;\n",
              "      cursor: pointer;\n",
              "      display: none;\n",
              "      fill: #1967D2;\n",
              "      height: 32px;\n",
              "      padding: 0 0 0 0;\n",
              "      width: 32px;\n",
              "    }\n",
              "\n",
              "    .colab-df-convert:hover {\n",
              "      background-color: #E2EBFA;\n",
              "      box-shadow: 0px 1px 2px rgba(60, 64, 67, 0.3), 0px 1px 3px 1px rgba(60, 64, 67, 0.15);\n",
              "      fill: #174EA6;\n",
              "    }\n",
              "\n",
              "    .colab-df-buttons div {\n",
              "      margin-bottom: 4px;\n",
              "    }\n",
              "\n",
              "    [theme=dark] .colab-df-convert {\n",
              "      background-color: #3B4455;\n",
              "      fill: #D2E3FC;\n",
              "    }\n",
              "\n",
              "    [theme=dark] .colab-df-convert:hover {\n",
              "      background-color: #434B5C;\n",
              "      box-shadow: 0px 1px 3px 1px rgba(0, 0, 0, 0.15);\n",
              "      filter: drop-shadow(0px 1px 2px rgba(0, 0, 0, 0.3));\n",
              "      fill: #FFFFFF;\n",
              "    }\n",
              "  </style>\n",
              "\n",
              "    <script>\n",
              "      const buttonEl =\n",
              "        document.querySelector('#df-1718574e-4663-418d-81df-4812075c8274 button.colab-df-convert');\n",
              "      buttonEl.style.display =\n",
              "        google.colab.kernel.accessAllowed ? 'block' : 'none';\n",
              "\n",
              "      async function convertToInteractive(key) {\n",
              "        const element = document.querySelector('#df-1718574e-4663-418d-81df-4812075c8274');\n",
              "        const dataTable =\n",
              "          await google.colab.kernel.invokeFunction('convertToInteractive',\n",
              "                                                    [key], {});\n",
              "        if (!dataTable) return;\n",
              "\n",
              "        const docLinkHtml = 'Like what you see? Visit the ' +\n",
              "          '<a target=\"_blank\" href=https://colab.research.google.com/notebooks/data_table.ipynb>data table notebook</a>'\n",
              "          + ' to learn more about interactive tables.';\n",
              "        element.innerHTML = '';\n",
              "        dataTable['output_type'] = 'display_data';\n",
              "        await google.colab.output.renderOutput(dataTable, element);\n",
              "        const docLink = document.createElement('div');\n",
              "        docLink.innerHTML = docLinkHtml;\n",
              "        element.appendChild(docLink);\n",
              "      }\n",
              "    </script>\n",
              "  </div>\n",
              "\n",
              "\n",
              "    <div id=\"df-d8eee487-75c3-4356-8ff8-7204633e30a4\">\n",
              "      <button class=\"colab-df-quickchart\" onclick=\"quickchart('df-d8eee487-75c3-4356-8ff8-7204633e30a4')\"\n",
              "                title=\"Suggest charts\"\n",
              "                style=\"display:none;\">\n",
              "\n",
              "<svg xmlns=\"http://www.w3.org/2000/svg\" height=\"24px\"viewBox=\"0 0 24 24\"\n",
              "     width=\"24px\">\n",
              "    <g>\n",
              "        <path d=\"M19 3H5c-1.1 0-2 .9-2 2v14c0 1.1.9 2 2 2h14c1.1 0 2-.9 2-2V5c0-1.1-.9-2-2-2zM9 17H7v-7h2v7zm4 0h-2V7h2v10zm4 0h-2v-4h2v4z\"/>\n",
              "    </g>\n",
              "</svg>\n",
              "      </button>\n",
              "\n",
              "<style>\n",
              "  .colab-df-quickchart {\n",
              "      --bg-color: #E8F0FE;\n",
              "      --fill-color: #1967D2;\n",
              "      --hover-bg-color: #E2EBFA;\n",
              "      --hover-fill-color: #174EA6;\n",
              "      --disabled-fill-color: #AAA;\n",
              "      --disabled-bg-color: #DDD;\n",
              "  }\n",
              "\n",
              "  [theme=dark] .colab-df-quickchart {\n",
              "      --bg-color: #3B4455;\n",
              "      --fill-color: #D2E3FC;\n",
              "      --hover-bg-color: #434B5C;\n",
              "      --hover-fill-color: #FFFFFF;\n",
              "      --disabled-bg-color: #3B4455;\n",
              "      --disabled-fill-color: #666;\n",
              "  }\n",
              "\n",
              "  .colab-df-quickchart {\n",
              "    background-color: var(--bg-color);\n",
              "    border: none;\n",
              "    border-radius: 50%;\n",
              "    cursor: pointer;\n",
              "    display: none;\n",
              "    fill: var(--fill-color);\n",
              "    height: 32px;\n",
              "    padding: 0;\n",
              "    width: 32px;\n",
              "  }\n",
              "\n",
              "  .colab-df-quickchart:hover {\n",
              "    background-color: var(--hover-bg-color);\n",
              "    box-shadow: 0 1px 2px rgba(60, 64, 67, 0.3), 0 1px 3px 1px rgba(60, 64, 67, 0.15);\n",
              "    fill: var(--button-hover-fill-color);\n",
              "  }\n",
              "\n",
              "  .colab-df-quickchart-complete:disabled,\n",
              "  .colab-df-quickchart-complete:disabled:hover {\n",
              "    background-color: var(--disabled-bg-color);\n",
              "    fill: var(--disabled-fill-color);\n",
              "    box-shadow: none;\n",
              "  }\n",
              "\n",
              "  .colab-df-spinner {\n",
              "    border: 2px solid var(--fill-color);\n",
              "    border-color: transparent;\n",
              "    border-bottom-color: var(--fill-color);\n",
              "    animation:\n",
              "      spin 1s steps(1) infinite;\n",
              "  }\n",
              "\n",
              "  @keyframes spin {\n",
              "    0% {\n",
              "      border-color: transparent;\n",
              "      border-bottom-color: var(--fill-color);\n",
              "      border-left-color: var(--fill-color);\n",
              "    }\n",
              "    20% {\n",
              "      border-color: transparent;\n",
              "      border-left-color: var(--fill-color);\n",
              "      border-top-color: var(--fill-color);\n",
              "    }\n",
              "    30% {\n",
              "      border-color: transparent;\n",
              "      border-left-color: var(--fill-color);\n",
              "      border-top-color: var(--fill-color);\n",
              "      border-right-color: var(--fill-color);\n",
              "    }\n",
              "    40% {\n",
              "      border-color: transparent;\n",
              "      border-right-color: var(--fill-color);\n",
              "      border-top-color: var(--fill-color);\n",
              "    }\n",
              "    60% {\n",
              "      border-color: transparent;\n",
              "      border-right-color: var(--fill-color);\n",
              "    }\n",
              "    80% {\n",
              "      border-color: transparent;\n",
              "      border-right-color: var(--fill-color);\n",
              "      border-bottom-color: var(--fill-color);\n",
              "    }\n",
              "    90% {\n",
              "      border-color: transparent;\n",
              "      border-bottom-color: var(--fill-color);\n",
              "    }\n",
              "  }\n",
              "</style>\n",
              "\n",
              "      <script>\n",
              "        async function quickchart(key) {\n",
              "          const quickchartButtonEl =\n",
              "            document.querySelector('#' + key + ' button');\n",
              "          quickchartButtonEl.disabled = true;  // To prevent multiple clicks.\n",
              "          quickchartButtonEl.classList.add('colab-df-spinner');\n",
              "          try {\n",
              "            const charts = await google.colab.kernel.invokeFunction(\n",
              "                'suggestCharts', [key], {});\n",
              "          } catch (error) {\n",
              "            console.error('Error during call to suggestCharts:', error);\n",
              "          }\n",
              "          quickchartButtonEl.classList.remove('colab-df-spinner');\n",
              "          quickchartButtonEl.classList.add('colab-df-quickchart-complete');\n",
              "        }\n",
              "        (() => {\n",
              "          let quickchartButtonEl =\n",
              "            document.querySelector('#df-d8eee487-75c3-4356-8ff8-7204633e30a4 button');\n",
              "          quickchartButtonEl.style.display =\n",
              "            google.colab.kernel.accessAllowed ? 'block' : 'none';\n",
              "        })();\n",
              "      </script>\n",
              "    </div>\n",
              "\n",
              "  <div id=\"id_2e044e5e-270d-4373-a558-9a0a5dd8fc26\">\n",
              "    <style>\n",
              "      .colab-df-generate {\n",
              "        background-color: #E8F0FE;\n",
              "        border: none;\n",
              "        border-radius: 50%;\n",
              "        cursor: pointer;\n",
              "        display: none;\n",
              "        fill: #1967D2;\n",
              "        height: 32px;\n",
              "        padding: 0 0 0 0;\n",
              "        width: 32px;\n",
              "      }\n",
              "\n",
              "      .colab-df-generate:hover {\n",
              "        background-color: #E2EBFA;\n",
              "        box-shadow: 0px 1px 2px rgba(60, 64, 67, 0.3), 0px 1px 3px 1px rgba(60, 64, 67, 0.15);\n",
              "        fill: #174EA6;\n",
              "      }\n",
              "\n",
              "      [theme=dark] .colab-df-generate {\n",
              "        background-color: #3B4455;\n",
              "        fill: #D2E3FC;\n",
              "      }\n",
              "\n",
              "      [theme=dark] .colab-df-generate:hover {\n",
              "        background-color: #434B5C;\n",
              "        box-shadow: 0px 1px 3px 1px rgba(0, 0, 0, 0.15);\n",
              "        filter: drop-shadow(0px 1px 2px rgba(0, 0, 0, 0.3));\n",
              "        fill: #FFFFFF;\n",
              "      }\n",
              "    </style>\n",
              "    <button class=\"colab-df-generate\" onclick=\"generateWithVariable('correlation_df')\"\n",
              "            title=\"Generate code using this dataframe.\"\n",
              "            style=\"display:none;\">\n",
              "\n",
              "  <svg xmlns=\"http://www.w3.org/2000/svg\" height=\"24px\"viewBox=\"0 0 24 24\"\n",
              "       width=\"24px\">\n",
              "    <path d=\"M7,19H8.4L18.45,9,17,7.55,7,17.6ZM5,21V16.75L18.45,3.32a2,2,0,0,1,2.83,0l1.4,1.43a1.91,1.91,0,0,1,.58,1.4,1.91,1.91,0,0,1-.58,1.4L9.25,21ZM18.45,9,17,7.55Zm-12,3A5.31,5.31,0,0,0,4.9,8.1,5.31,5.31,0,0,0,1,6.5,5.31,5.31,0,0,0,4.9,4.9,5.31,5.31,0,0,0,6.5,1,5.31,5.31,0,0,0,8.1,4.9,5.31,5.31,0,0,0,12,6.5,5.46,5.46,0,0,0,6.5,12Z\"/>\n",
              "  </svg>\n",
              "    </button>\n",
              "    <script>\n",
              "      (() => {\n",
              "      const buttonEl =\n",
              "        document.querySelector('#id_2e044e5e-270d-4373-a558-9a0a5dd8fc26 button.colab-df-generate');\n",
              "      buttonEl.style.display =\n",
              "        google.colab.kernel.accessAllowed ? 'block' : 'none';\n",
              "\n",
              "      buttonEl.onclick = () => {\n",
              "        google.colab.notebook.generateWithVariable('correlation_df');\n",
              "      }\n",
              "      })();\n",
              "    </script>\n",
              "  </div>\n",
              "\n",
              "    </div>\n",
              "  </div>\n"
            ],
            "application/vnd.google.colaboratory.intrinsic+json": {
              "type": "dataframe",
              "variable_name": "correlation_df",
              "summary": "{\n  \"name\": \"correlation_df\",\n  \"rows\": 5,\n  \"fields\": [\n    {\n      \"column\": \"Id\",\n      \"properties\": {\n        \"dtype\": \"number\",\n        \"std\": 0.5252255378301012,\n        \"min\": -0.2846084384155622,\n        \"max\": 1.0,\n        \"num_unique_values\": 5,\n        \"samples\": [\n          0.38850087487804785,\n          0.867368790068288,\n          -0.2846084384155622\n        ],\n        \"semantic_type\": \"\",\n        \"description\": \"\"\n      }\n    },\n    {\n      \"column\": \"sepal_length\",\n      \"properties\": {\n        \"dtype\": \"number\",\n        \"std\": 0.3831691816560373,\n        \"min\": -0.07938340552473179,\n        \"max\": 1.0,\n        \"num_unique_values\": 5,\n        \"samples\": [\n          1.0,\n          0.4701354662866618,\n          -0.07938340552473179\n        ],\n        \"semantic_type\": \"\",\n        \"description\": \"\"\n      }\n    },\n    {\n      \"column\": \"sepal_width\",\n      \"properties\": {\n        \"dtype\": \"number\",\n        \"std\": 0.5459701828884178,\n        \"min\": -0.2846084384155622,\n        \"max\": 1.0,\n        \"num_unique_values\": 5,\n        \"samples\": [\n          -0.07938340552473179,\n          -0.2514299215618558,\n          1.0\n        ],\n        \"semantic_type\": \"\",\n        \"description\": \"\"\n      }\n    },\n    {\n      \"column\": \"petal_length\",\n      \"properties\": {\n        \"dtype\": \"number\",\n        \"std\": 0.5000613938229935,\n        \"min\": -0.2176789851038772,\n        \"max\": 1.0,\n        \"num_unique_values\": 5,\n        \"samples\": [\n          0.4211561045562037,\n          0.8966675666690542,\n          -0.2176789851038772\n        ],\n        \"semantic_type\": \"\",\n        \"description\": \"\"\n      }\n    },\n    {\n      \"column\": \"petal_width\",\n      \"properties\": {\n        \"dtype\": \"number\",\n        \"std\": 0.5150815117702975,\n        \"min\": -0.2514299215618558,\n        \"max\": 1.0,\n        \"num_unique_values\": 5,\n        \"samples\": [\n          0.4701354662866618,\n          1.0,\n          -0.2514299215618558\n        ],\n        \"semantic_type\": \"\",\n        \"description\": \"\"\n      }\n    }\n  ]\n}"
            }
          },
          "metadata": {},
          "execution_count": 55
        }
      ]
    },
    {
      "cell_type": "code",
      "source": [
        "data = df.toPandas()\n",
        "sns.lmplot(x = \"sepal_length\", y = \"petal_width\", data = data)\n",
        "plt.show()"
      ],
      "metadata": {
        "colab": {
          "base_uri": "https://localhost:8080/",
          "height": 507
        },
        "id": "9jV-wrN5_kFE",
        "outputId": "0892e06b-e4cd-4614-c4b7-486a96e642eb"
      },
      "execution_count": null,
      "outputs": [
        {
          "output_type": "display_data",
          "data": {
            "text/plain": [
              "<Figure size 500x500 with 1 Axes>"
            ],
            "image/png": "[encoded data removed]"
          },
          "metadata": {}
        }
      ]
    },
    {
      "cell_type": "code",
      "source": [
        "import numpy as np\n",
        "import seaborn as sns\n",
        "import matplotlib.pyplot as plt\n",
        "sns.heatmap(correlation_df[1:])\n",
        "plt.show()"
      ],
      "metadata": {
        "colab": {
          "base_uri": "https://localhost:8080/",
          "height": 510
        },
        "id": "QgLfQt04-ZgG",
        "outputId": "0b795633-413b-4f9b-b192-511f7eecda92"
      },
      "execution_count": null,
      "outputs": [
        {
          "output_type": "display_data",
          "data": {
            "text/plain": [
              "<Figure size 640x480 with 2 Axes>"
            ],
            "image/png": "[encoded data removed]"
          },
          "metadata": {}
        }
      ]
    }
  ]
}